{
 "cells": [
  {
   "cell_type": "markdown",
   "metadata": {},
   "source": [
    "# FEP Tutorial"
   ]
  },
  {
   "cell_type": "markdown",
   "metadata": {},
   "source": [
    "The bash script created for FEP uses ambertools and sire. The setup folder has following directory structure and lets call this FEP directory as \"home\" directory"
   ]
  },
  {
   "cell_type": "code",
   "execution_count": null,
   "metadata": {},
   "outputs": [],
   "source": [
    "!mkdir Ligands Protein Parameters Complex Equilibrium Perturbations"
   ]
  },
  {
   "cell_type": "markdown",
   "metadata": {},
   "source": [
    "Protein prepared for amber system and ready for amber simulation should be placed in Protein folder as protein2.pdb"
   ]
  },
  {
   "cell_type": "markdown",
   "metadata": {},
   "source": [
    "All the ligands with name LigXX.mol2 should be placed in Ligand folder"
   ]
  },
  {
   "cell_type": "markdown",
   "metadata": {},
   "source": [
    "All the parameters used are found in Parameter folder"
   ]
  },
  {
   "cell_type": "markdown",
   "metadata": {},
   "source": [
    "Perturbations should be defined in \"pertlist\" file in home directory"
   ]
  },
  {
   "cell_type": "markdown",
   "metadata": {},
   "source": [
    "FEP simulation scripts are subdivided here into the following steps.\n",
    "<br>\n",
    "<font color=green>Parametrisation</font>\n",
    "<br>- Protein preparation\n",
    "<br>- Ligand parameterisation\n",
    "<br>\n",
    "<font color=green>Unbound state</font>\n",
    "<br>- Ligand solvation and equilibration\n",
    "<br>- Setting Alchemical Transformations - Ligand\n",
    "<br>- Running unbound state lambda simulations\n",
    "<br>\n",
    "<font color=green>Bound state</font>\n",
    "<br>- Complex solvation and equilibration\n",
    "<br>- Settingup Alchemical Transformations - complex\n",
    "<br>- Running Bound state lambda simulations\n",
    "<br>\n",
    "<font color=green>Analysis</font>\n",
    "<br>- Visual inspection of trajectories\n",
    "<br>- Binding_Free_Energy analysis\n"
   ]
  },
  {
   "cell_type": "markdown",
   "metadata": {},
   "source": [
    "### <font color=green>**Parameterisation**</font>"
   ]
  },
  {
   "cell_type": "markdown",
   "metadata": {},
   "source": [
    "<font color=blue>**1_Protein Preparation**</font>"
   ]
  },
  {
   "cell_type": "markdown",
   "metadata": {},
   "source": [
    "script to use <font color=brown>./1_Protein-prep.sh</font>\n",
    "\n",
    "a high resolution Ligand bound co-crystal structure is essential for FEP calculation.\n",
    "\n",
    "protein should be prepared to fix any missing atoms, correct protonation states and cap the termini. This can be done by schrodinger maestro or by using webservers or with different modules in ambertools.\n",
    "\n",
    "if using schrodinger`s maestro remove all non polar hydrogens and fix residue name of cap NMA to NME\n",
    "\n",
    "protein2.pdb should be amber atomtyped any errors during protein preparation by tleap should be fixed with carefull inspection. Normally for file prepared by meastro Histidines  gives an error change corresponding residue name from HIS to HID or HIP\n"
   ]
  },
  {
   "cell_type": "markdown",
   "metadata": {},
   "source": [
    "<font color=blue>**2_Ligand Parameterisation**</font>"
   ]
  },
  {
   "cell_type": "markdown",
   "metadata": {},
   "source": [
    "script to use <font color=brown>./2_Lig_param.sh</font>\n",
    "\n",
    "All ligand should be aligned to the co-crystal structure. A docking method or manipulation of co-crystal structure followed by refinement method should be used for FEP\n",
    "\n",
    "\n",
    "Ligand input file format should be mol2 or pdb format (but it should be changed in the script). \n",
    "<font color=brown>the charge state should be corrected</font> in the script at the line stating \"-nc +1\"\n",
    "for each ligand in Ligand folder a subdirectory will be created with ligand name\n",
    "\n",
    "\n",
    "\n",
    "using antechanber ligands are optimised using AM1 method"
   ]
  },
  {
   "cell_type": "markdown",
   "metadata": {},
   "source": [
    "### <font color=green>**Solvation and equilibration**</font>"
   ]
  },
  {
   "cell_type": "markdown",
   "metadata": {},
   "source": [
    "<font color=blue>**3_Ligand solvation and equilibration run**</font>"
   ]
  },
  {
   "cell_type": "markdown",
   "metadata": {},
   "source": [
    "Script to use <font color=brown>./3_Lig_Sov_eq.sh</font>  for ligands\n",
    "\n",
    "First a ligand forcefield library file was created then solvated using TIP3P water model. The solvated system is minimised using protocol described in \"Parameter/Minimis.cfg\" file and then heated to 300 C using \"Parameter/Eq1_nvt.cfg\" followed by pressure equilibration using \"Parameter/Eq2_npt.cfg\" and then by a short pre-production run using configuration \"Parameter/Eq3_pre.cfg\"\n",
    "\n",
    "A copy for equilibrated system is then placed in Equilibrium folder as  LigXX_Eq.rst7 LigXX_Eq.prm7"
   ]
  },
  {
   "cell_type": "markdown",
   "metadata": {},
   "source": [
    "<font color=blue>**4_Complex solvation and equilibration run**</font>"
   ]
  },
  {
   "cell_type": "markdown",
   "metadata": {},
   "source": [
    "Script to use <font color=brown>./4_Com_Sov_eq.sh</font> for protein-ligand complex\n",
    "\n",
    "This script creates first residue as ligand followed by protein\n",
    "\n",
    "based on overall charge state of the system counter ions should be changed in the script at the line \"addIons2 complex Na+ 0\"\n",
    "\n",
    "The solvated complex has an additional step of minimising water first followed by whole system minimisation, heating, pressure equilibration and short preproduction run\n",
    "\n",
    "- water minimisation : Watermi.cfg, restrained heavy atoms of solute\n",
    "- system minimisation: Minimis.cfg, unrestrained\n",
    "- heating: Eq1_nvt.cfg, NVT, restrained protein backbone heavy atoms temperature raised to 300K in 10ps\n",
    "- density: Eq2_npt.cfg, NPT, restrained protein backbone heavy atoms pressure equilibrated to 1 atm in 50ps\n",
    "- pre-production: Eq3_pre.cfg, NPT, unrestrained, 50ps\n",
    "\n",
    "\n",
    "The above protocol runs on MPI version of sander, if MPI version is not compiled on your machine and to use serial version of sander replace <font color=brown>mpirun -np 6 sander.MPI</font> with <font color=brown>sander</font> in the script\n",
    "\n",
    "A copy of the equilibrated system is then placed in Equilibrium folder as Pro_LigXX_Eq.rst7 .prm7"
   ]
  },
  {
   "cell_type": "markdown",
   "metadata": {},
   "source": [
    "### <font color=green>**Setting up and running Alchemical Transformations**</font>"
   ]
  },
  {
   "cell_type": "markdown",
   "metadata": {},
   "source": [
    "<font color=blue>**5_Settingup Alchemical Transformations for unbound form**</font>"
   ]
  },
  {
   "cell_type": "markdown",
   "metadata": {},
   "source": [
    "script to use <font color=brown>./5_Ligand_perturbation.sh</font> \n",
    "\n",
    "based on the transformation given in the \"pertlist\" file in parent directory a setup folder is created in Perturbation folder as\n",
    "\n",
    "LigXX_to_LigYY/unbound"
   ]
  },
  {
   "cell_type": "markdown",
   "metadata": {},
   "source": [
    "<font color=blue>**6_Settingup Alchemical Transformations for bound form**</font>"
   ]
  },
  {
   "cell_type": "markdown",
   "metadata": {},
   "source": [
    "script to use <font color=brown>./6_Complex_perturbation.sh</font> \n",
    "\n",
    "based on the transformation given in the \"pertlist\" file in parent directory a setup folder is created in Perturbation folder as\n",
    "\n",
    "LigXX_to_LigYY/bound"
   ]
  },
  {
   "cell_type": "markdown",
   "metadata": {},
   "source": [
    "<font color=blue>**7_Running Transformations - Unbound**</font>"
   ]
  },
  {
   "cell_type": "markdown",
   "metadata": {},
   "source": [
    "script to use <font color=brown>./7_ligand_lambdarun.sh</font> \n",
    "\n",
    "Runs in \"LigXX_to_LigYY/unbound\" folder creates and runs simulation at each lambda specified. Simulation configurations can be changed in the parameter file \"Parameters/lambda.cfg\"\n",
    "\n",
    "Runs on openMM with GPU mode"
   ]
  },
  {
   "cell_type": "markdown",
   "metadata": {},
   "source": [
    "<font color=blue>**8_Running Transformations - Bound**</font>"
   ]
  },
  {
   "cell_type": "markdown",
   "metadata": {},
   "source": [
    "Script to use <font color=brown>./8_complex_lambdarun.sh</font> \n",
    "\n",
    "Runs in \"LigXX_to_LigYY/bound\" folder creates and runs simulation at each lambda specified. simulation configuration can be changed in the parameter file \"Parameters/lambda.cfg\"\n",
    "\n",
    "Runs on openMM with GPU mode"
   ]
  },
  {
   "cell_type": "markdown",
   "metadata": {},
   "source": [
    "### <font color=green>**Analysis**</font>"
   ]
  },
  {
   "cell_type": "markdown",
   "metadata": {},
   "source": [
    "<font color=blue>**Visual inspection of trajectories**</font>"
   ]
  },
  {
   "cell_type": "markdown",
   "metadata": {},
   "source": [
    "Jupyter notebook to use <font color=brown>Visualising_trajectories.ipynb</font> \n",
    "\n",
    "Needs pytraj module from ambertools for trajectory analysis, output is written as aligned.pdb\n",
    "\n",
    "To set environment use this on my system <br>\n",
    "source /home/nvk28/Desktop/pytraj.sh"
   ]
  },
  {
   "cell_type": "markdown",
   "metadata": {},
   "source": [
    "<font color=blue>**Binding_Free_Energy analysis**</font>"
   ]
  },
  {
   "cell_type": "markdown",
   "metadata": {},
   "source": [
    "Jupyter notebook to use <font color=brown>Binding_Free_Energy.ipynb</font> \n",
    "\n",
    "needs analyse_freenrg module from sire for relative binding energy calculation. this file is found inside \"Perturbations/LigXX_to_LigYY\" folder\n",
    "\n",
    "to set environment use this on my system \n",
    "<br>\n",
    "source /home/nvk28/Desktop/fep.sh"
   ]
  },
  {
   "cell_type": "code",
   "execution_count": null,
   "metadata": {},
   "outputs": [],
   "source": []
  }
 ],
 "metadata": {
  "kernelspec": {
   "display_name": "Python 2",
   "language": "python",
   "name": "python2"
  },
  "language_info": {
   "codemirror_mode": {
    "name": "ipython",
    "version": 2
   },
   "file_extension": ".py",
   "mimetype": "text/x-python",
   "name": "python",
   "nbconvert_exporter": "python",
   "pygments_lexer": "ipython2",
   "version": "2.7.15"
  }
 },
 "nbformat": 4,
 "nbformat_minor": 2
}
